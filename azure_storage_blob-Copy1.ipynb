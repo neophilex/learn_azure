{
 "cells": [
  {
   "cell_type": "code",
   "execution_count": 1,
   "metadata": {},
   "outputs": [
    {
     "name": "stdout",
     "output_type": "stream",
     "text": [
      "Azure Blob storage v12 - Python quickstart sample\n"
     ]
    }
   ],
   "source": [
    "import os, uuid\n",
    "from azure.storage.blob import BlobServiceClient, BlobClient, ContainerClient\n",
    "\n",
    "try:\n",
    "    print(\"Azure Blob storage v12 - Python quickstart sample\")\n",
    "    # Quick start code goes here\n",
    "except Exception as ex:\n",
    "    print('Exception:')\n",
    "    print(ex)"
   ]
  },
  {
   "cell_type": "code",
   "execution_count": 2,
   "metadata": {},
   "outputs": [],
   "source": [
    "connection_strings = !(az storage account show-connection-string -n maswadkar -o tsv)\n",
    "connect_str = connection_strings[-1]"
   ]
  },
  {
   "cell_type": "code",
   "execution_count": 3,
   "metadata": {},
   "outputs": [],
   "source": [
    "# Create the BlobServiceClient object which will be used to create a container client\n",
    "blob_service_client = BlobServiceClient.from_connection_string(connect_str)"
   ]
  },
  {
   "cell_type": "code",
   "execution_count": 6,
   "metadata": {},
   "outputs": [
    {
     "name": "stdout",
     "output_type": "stream",
     "text": [
      "androidphotos\n",
      "azure-webjobs-hosts\n",
      "azure-webjobs-secrets\n",
      "imdb\n",
      "quickstart2e6f5b60-0442-42cd-910a-9faede1b0428\n",
      "videos\n"
     ]
    }
   ],
   "source": [
    "for i in blob_service_client.list_containers():\n",
    "    print(i.name)"
   ]
  },
  {
   "cell_type": "code",
   "execution_count": 43,
   "metadata": {},
   "outputs": [],
   "source": [
    "container_client =  blob_service_client.get_container_client('imdb')"
   ]
  },
  {
   "cell_type": "code",
   "execution_count": 47,
   "metadata": {},
   "outputs": [
    {
     "name": "stdout",
     "output_type": "stream",
     "text": [
      "{'request_server_encrypted': None, 'append_blob_committed_block_count': None, 'deleted_time': None, 'blob_tier_change_time': None, 'etag': '0x8D7EDFD9C446464', 'encryption_key_sha256': None, 'blob_tier': 'Hot', 'name': 'name.basics.tsv', 'snapshot': None, 'encryption_scope': None, 'metadata': {}, 'server_encrypted': True, 'remaining_retention_days': None, 'content_range': None, 'deleted': None, 'content_settings': {'content_md5': None, 'content_type': 'text/tab-separated-values', 'content_disposition': None, 'content_encoding': None, 'content_language': None, 'cache_control': None}, 'creation_time': datetime.datetime(2020, 5, 1, 18, 29, 40, tzinfo=datetime.timezone.utc), 'container': 'imdb', 'page_blob_sequence_number': None, 'lease': {'state': 'available', 'duration': None, 'status': 'unlocked'}, 'blob_type': <BlobType.BlockBlob: 'BlockBlob'>, 'archive_status': None, 'encrypted_metadata': None, 'blob_tier_inferred': True, 'size': 601553711, 'copy': {'status_description': None, 'progress': None, 'destination_snapshot': None, 'status': None, 'source': None, 'incremental_copy': None, 'id': None, 'completion_time': None}, 'last_modified': datetime.datetime(2020, 5, 1, 18, 29, 40, tzinfo=datetime.timezone.utc)}\n",
      "ll\n",
      "{'request_server_encrypted': None, 'append_blob_committed_block_count': None, 'deleted_time': None, 'blob_tier_change_time': None, 'etag': '0x8D7EDFDA50AAFD8', 'encryption_key_sha256': None, 'blob_tier': 'Hot', 'name': 'title.akas.tsv', 'snapshot': None, 'encryption_scope': None, 'metadata': {}, 'server_encrypted': True, 'remaining_retention_days': None, 'content_range': None, 'deleted': None, 'content_settings': {'content_md5': None, 'content_type': 'text/tab-separated-values', 'content_disposition': None, 'content_encoding': None, 'content_language': None, 'cache_control': None}, 'creation_time': datetime.datetime(2020, 5, 1, 18, 29, 54, tzinfo=datetime.timezone.utc), 'container': 'imdb', 'page_blob_sequence_number': None, 'lease': {'state': 'available', 'duration': None, 'status': 'unlocked'}, 'blob_type': <BlobType.BlockBlob: 'BlockBlob'>, 'archive_status': None, 'encrypted_metadata': None, 'blob_tier_inferred': True, 'size': 1083281950, 'copy': {'status_description': None, 'progress': None, 'destination_snapshot': None, 'status': None, 'source': None, 'incremental_copy': None, 'id': None, 'completion_time': None}, 'last_modified': datetime.datetime(2020, 5, 1, 18, 29, 54, tzinfo=datetime.timezone.utc)}\n",
      "l\n",
      "{'request_server_encrypted': None, 'append_blob_committed_block_count': None, 'deleted_time': None, 'blob_tier_change_time': None, 'etag': '0x8D7EDFD5124041C', 'encryption_key_sha256': None, 'blob_tier': 'Hot', 'name': 'title.basics.tsv', 'snapshot': None, 'encryption_scope': None, 'metadata': {}, 'server_encrypted': True, 'remaining_retention_days': None, 'content_range': None, 'deleted': None, 'content_settings': {'content_md5': None, 'content_type': 'text/tab-separated-values', 'content_disposition': None, 'content_encoding': None, 'content_language': None, 'cache_control': None}, 'creation_time': datetime.datetime(2020, 5, 1, 18, 27, 34, tzinfo=datetime.timezone.utc), 'container': 'imdb', 'page_blob_sequence_number': None, 'lease': {'state': 'available', 'duration': None, 'status': 'unlocked'}, 'blob_type': <BlobType.BlockBlob: 'BlockBlob'>, 'archive_status': None, 'encrypted_metadata': None, 'blob_tier_inferred': True, 'size': 574976307, 'copy': {'status_description': None, 'progress': None, 'destination_snapshot': None, 'status': None, 'source': None, 'incremental_copy': None, 'id': None, 'completion_time': None}, 'last_modified': datetime.datetime(2020, 5, 1, 18, 27, 34, tzinfo=datetime.timezone.utc)}\n",
      "l\n",
      "{'request_server_encrypted': None, 'append_blob_committed_block_count': None, 'deleted_time': None, 'blob_tier_change_time': None, 'etag': '0x8D7EDFD3C07AFBD', 'encryption_key_sha256': None, 'blob_tier': 'Hot', 'name': 'title.crew.tsv', 'snapshot': None, 'encryption_scope': None, 'metadata': {}, 'server_encrypted': True, 'remaining_retention_days': None, 'content_range': None, 'deleted': None, 'content_settings': {'content_md5': None, 'content_type': 'text/tab-separated-values', 'content_disposition': None, 'content_encoding': None, 'content_language': None, 'cache_control': None}, 'creation_time': datetime.datetime(2020, 5, 1, 18, 26, 58, tzinfo=datetime.timezone.utc), 'container': 'imdb', 'page_blob_sequence_number': None, 'lease': {'state': 'available', 'duration': None, 'status': 'unlocked'}, 'blob_type': <BlobType.BlockBlob: 'BlockBlob'>, 'archive_status': None, 'encrypted_metadata': None, 'blob_tier_inferred': True, 'size': 219611800, 'copy': {'status_description': None, 'progress': None, 'destination_snapshot': None, 'status': None, 'source': None, 'incremental_copy': None, 'id': None, 'completion_time': None}, 'last_modified': datetime.datetime(2020, 5, 1, 18, 26, 58, tzinfo=datetime.timezone.utc)}\n",
      "l\n",
      "{'request_server_encrypted': None, 'append_blob_committed_block_count': None, 'deleted_time': None, 'blob_tier_change_time': None, 'etag': '0x8D7EDFD3493EAA8', 'encryption_key_sha256': None, 'blob_tier': 'Hot', 'name': 'title.episode.tsv', 'snapshot': None, 'encryption_scope': None, 'metadata': {}, 'server_encrypted': True, 'remaining_retention_days': None, 'content_range': None, 'deleted': None, 'content_settings': {'content_md5': None, 'content_type': 'text/tab-separated-values', 'content_disposition': None, 'content_encoding': None, 'content_language': None, 'cache_control': None}, 'creation_time': datetime.datetime(2020, 5, 1, 18, 26, 46, tzinfo=datetime.timezone.utc), 'container': 'imdb', 'page_blob_sequence_number': None, 'lease': {'state': 'available', 'duration': None, 'status': 'unlocked'}, 'blob_type': <BlobType.BlockBlob: 'BlockBlob'>, 'archive_status': None, 'encrypted_metadata': None, 'blob_tier_inferred': True, 'size': 122673351, 'copy': {'status_description': None, 'progress': None, 'destination_snapshot': None, 'status': None, 'source': None, 'incremental_copy': None, 'id': None, 'completion_time': None}, 'last_modified': datetime.datetime(2020, 5, 1, 18, 26, 46, tzinfo=datetime.timezone.utc)}\n",
      "l\n",
      "{'request_server_encrypted': None, 'append_blob_committed_block_count': None, 'deleted_time': None, 'blob_tier_change_time': None, 'etag': '0x8D7EE05188431D7', 'encryption_key_sha256': None, 'blob_tier': 'Hot', 'name': 'title.principals.tsv', 'snapshot': None, 'encryption_scope': None, 'metadata': {}, 'server_encrypted': True, 'remaining_retention_days': None, 'content_range': None, 'deleted': None, 'content_settings': {'content_md5': None, 'content_type': 'text/tab-separated-values', 'content_disposition': None, 'content_encoding': None, 'content_language': None, 'cache_control': None}, 'creation_time': datetime.datetime(2020, 5, 1, 19, 23, 14, tzinfo=datetime.timezone.utc), 'container': 'imdb', 'page_blob_sequence_number': None, 'lease': {'state': 'available', 'duration': None, 'status': 'unlocked'}, 'blob_type': <BlobType.BlockBlob: 'BlockBlob'>, 'archive_status': None, 'encrypted_metadata': None, 'blob_tier_inferred': True, 'size': 1715777625, 'copy': {'status_description': None, 'progress': None, 'destination_snapshot': None, 'status': None, 'source': None, 'incremental_copy': None, 'id': None, 'completion_time': None}, 'last_modified': datetime.datetime(2020, 5, 1, 19, 23, 14, tzinfo=datetime.timezone.utc)}\n",
      "l\n",
      "{'request_server_encrypted': None, 'append_blob_committed_block_count': None, 'deleted_time': None, 'blob_tier_change_time': None, 'etag': '0x8D7EDFD2978BD07', 'encryption_key_sha256': None, 'blob_tier': 'Hot', 'name': 'title.ratings.tsv', 'snapshot': None, 'encryption_scope': None, 'metadata': {}, 'server_encrypted': True, 'remaining_retention_days': None, 'content_range': None, 'deleted': None, 'content_settings': {'content_md5': bytearray(b'\\xe4_<\\x0f\\xc7y?\\xc6\\x1c5\\xb9#=~TD'), 'content_type': 'text/tab-separated-values', 'content_disposition': None, 'content_encoding': None, 'content_language': None, 'cache_control': None}, 'creation_time': datetime.datetime(2020, 5, 1, 18, 26, 27, tzinfo=datetime.timezone.utc), 'container': 'imdb', 'page_blob_sequence_number': None, 'lease': {'state': 'available', 'duration': None, 'status': 'unlocked'}, 'blob_type': <BlobType.BlockBlob: 'BlockBlob'>, 'archive_status': None, 'encrypted_metadata': None, 'blob_tier_inferred': True, 'size': 17621193, 'copy': {'status_description': None, 'progress': None, 'destination_snapshot': None, 'status': None, 'source': None, 'incremental_copy': None, 'id': None, 'completion_time': None}, 'last_modified': datetime.datetime(2020, 5, 1, 18, 26, 27, tzinfo=datetime.timezone.utc)}\n"
     ]
    },
    {
     "name": "stdout",
     "output_type": "stream",
     "text": [
      "l\n"
     ]
    }
   ],
   "source": [
    "for x in container_client.list_blobs():\n",
    "    print(x)\n",
    "    input()"
   ]
  },
  {
   "cell_type": "code",
   "execution_count": 48,
   "metadata": {},
   "outputs": [],
   "source": [
    "blob_client = container_client.get_blob_client('title.ratings.tsv')"
   ]
  },
  {
   "cell_type": "code",
   "execution_count": 51,
   "metadata": {},
   "outputs": [
    {
     "data": {
      "text/plain": [
       "<azure.storage.blob._lease.BlobLeaseClient at 0x7fbe5cf13b00>"
      ]
     },
     "execution_count": 51,
     "metadata": {},
     "output_type": "execute_result"
    }
   ],
   "source": [
    "blob_client.acquire_lease(lease_duration=60)"
   ]
  },
  {
   "cell_type": "code",
   "execution_count": 52,
   "metadata": {},
   "outputs": [
    {
     "data": {
      "text/plain": [
       "'https://maswadkar.blob.core.windows.net/imdb/title.ratings.tsv'"
      ]
     },
     "execution_count": 52,
     "metadata": {},
     "output_type": "execute_result"
    }
   ],
   "source": [
    "blob_client.from_blob_url()"
   ]
  },
  {
   "cell_type": "code",
   "execution_count": 37,
   "metadata": {},
   "outputs": [],
   "source": [
    "for x in blob_list:\n",
    "    print(x.name)"
   ]
  },
  {
   "cell_type": "code",
   "execution_count": null,
   "metadata": {},
   "outputs": [],
   "source": [
    "# Create a unique name for the container\n",
    "container_name = \"quickstart-\" + str(uuid.uuid4())\n",
    "\n",
    "# Create the container\n",
    "container_client = blob_service_client.create_container(container_name)"
   ]
  },
  {
   "cell_type": "code",
   "execution_count": null,
   "metadata": {},
   "outputs": [],
   "source": [
    "# Create a file in local data directory to upload and download\n",
    "local_path = \".\"\n",
    "local_file_name = \"quickstart\" + str(uuid.uuid4()) + \".txt\"\n",
    "upload_file_path = os.path.join(local_path, local_file_name)\n",
    "\n",
    "# Write text to the file\n",
    "file = open(upload_file_path, 'w')\n",
    "file.write(\"Hello, World!\")\n",
    "file.close()\n",
    "\n",
    "# Create a blob client using the local file name as the name for the blob\n",
    "blob_client = blob_service_client.get_blob_client(container=container_name, blob=local_file_name)\n",
    "\n",
    "print(\"\\nUploading to Azure Storage as blob:\\n\\t\" + local_file_name)\n",
    "\n",
    "# Upload the created file\n",
    "with open(upload_file_path, \"rb\") as data:\n",
    "    blob_client.upload_blob(data)"
   ]
  },
  {
   "cell_type": "code",
   "execution_count": null,
   "metadata": {},
   "outputs": [],
   "source": [
    "print(\"\\nListing blobs...\")\n",
    "\n",
    "# List the blobs in the container\n",
    "blob_list = container_client.list_blobs()\n",
    "for blob in blob_list:\n",
    "    print(\"\\t\" + blob.name)"
   ]
  },
  {
   "cell_type": "code",
   "execution_count": null,
   "metadata": {},
   "outputs": [],
   "source": [
    "# Download the blob to a local file\n",
    "# Add 'DOWNLOAD' before the .txt extension so you can see both files in the data directory\n",
    "download_file_path = os.path.join(local_path, str.replace(local_file_name ,'.txt', 'DOWNLOAD.txt'))\n",
    "print(\"\\nDownloading blob to \\n\\t\" + download_file_path)\n",
    "\n",
    "with open(download_file_path, \"wb\") as download_file:\n",
    "    download_file.write(blob_client.download_blob().readall())"
   ]
  },
  {
   "cell_type": "code",
   "execution_count": null,
   "metadata": {},
   "outputs": [],
   "source": []
  }
 ],
 "metadata": {
  "kernelspec": {
   "display_name": "Python 3",
   "language": "python",
   "name": "python3"
  },
  "language_info": {
   "codemirror_mode": {
    "name": "ipython",
    "version": 3
   },
   "file_extension": ".py",
   "mimetype": "text/x-python",
   "name": "python",
   "nbconvert_exporter": "python",
   "pygments_lexer": "ipython3",
   "version": "3.5.3"
  }
 },
 "nbformat": 4,
 "nbformat_minor": 4
}
