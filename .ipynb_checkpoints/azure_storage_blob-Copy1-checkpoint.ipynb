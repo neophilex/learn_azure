{
 "cells": [
  {
   "cell_type": "code",
   "execution_count": 1,
   "metadata": {},
   "outputs": [
    {
     "name": "stdout",
     "output_type": "stream",
     "text": [
      "Azure Blob storage v12 - Python quickstart sample\n"
     ]
    }
   ],
   "source": [
    "import os, uuid\n",
    "from azure.storage.blob import BlobServiceClient, BlobClient, ContainerClient\n",
    "\n",
    "try:\n",
    "    print(\"Azure Blob storage v12 - Python quickstart sample\")\n",
    "    # Quick start code goes here\n",
    "except Exception as ex:\n",
    "    print('Exception:')\n",
    "    print(ex)"
   ]
  },
  {
   "cell_type": "code",
   "execution_count": 2,
   "metadata": {},
   "outputs": [],
   "source": [
    "connection_strings = !(az storage account show-connection-string -n maswadkar -o tsv)\n",
    "connect_str = connection_strings[-1]"
   ]
  },
  {
   "cell_type": "code",
   "execution_count": 3,
   "metadata": {},
   "outputs": [],
   "source": [
    "# Create the BlobServiceClient object which will be used to create a container client\n",
    "blob_service_client = BlobServiceClient.from_connection_string(connect_str)"
   ]
  },
  {
   "cell_type": "code",
   "execution_count": 6,
   "metadata": {},
   "outputs": [
    {
     "name": "stdout",
     "output_type": "stream",
     "text": [
      "androidphotos\n",
      "azure-webjobs-hosts\n",
      "azure-webjobs-secrets\n",
      "imdb\n",
      "quickstart2e6f5b60-0442-42cd-910a-9faede1b0428\n",
      "videos\n"
     ]
    }
   ],
   "source": [
    "for i in blob_service_client.list_containers():\n",
    "    print(i.name)"
   ]
  },
  {
   "cell_type": "code",
   "execution_count": 43,
   "metadata": {},
   "outputs": [],
   "source": [
    "container_client =  blob_service_client.get_container_client('imdb')"
   ]
  },
  {
   "cell_type": "code",
   "execution_count": 44,
   "metadata": {},
   "outputs": [
    {
     "name": "stdout",
     "output_type": "stream",
     "text": [
      "name.basics.tsv\n",
      "s\n",
      "title.akas.tsv\n",
      "s\n",
      "title.basics.tsv\n",
      "s\n",
      "title.crew.tsv\n",
      "s\n",
      "title.episode.tsv\n",
      "s\n",
      "title.principals.tsv\n",
      "s\n",
      "title.ratings.tsv\n",
      "d\n"
     ]
    }
   ],
   "source": [
    "for x in container_client.list_blobs():\n",
    "    print(x.name)\n",
    "    input()"
   ]
  },
  {
   "cell_type": "code",
   "execution_count": 37,
   "metadata": {},
   "outputs": [],
   "source": [
    "for x in blob_list:\n",
    "    print(x.name)"
   ]
  },
  {
   "cell_type": "code",
   "execution_count": null,
   "metadata": {},
   "outputs": [],
   "source": [
    "# Create a unique name for the container\n",
    "container_name = \"quickstart-\" + str(uuid.uuid4())\n",
    "\n",
    "# Create the container\n",
    "container_client = blob_service_client.create_container(container_name)"
   ]
  },
  {
   "cell_type": "code",
   "execution_count": null,
   "metadata": {},
   "outputs": [],
   "source": [
    "# Create a file in local data directory to upload and download\n",
    "local_path = \".\"\n",
    "local_file_name = \"quickstart\" + str(uuid.uuid4()) + \".txt\"\n",
    "upload_file_path = os.path.join(local_path, local_file_name)\n",
    "\n",
    "# Write text to the file\n",
    "file = open(upload_file_path, 'w')\n",
    "file.write(\"Hello, World!\")\n",
    "file.close()\n",
    "\n",
    "# Create a blob client using the local file name as the name for the blob\n",
    "blob_client = blob_service_client.get_blob_client(container=container_name, blob=local_file_name)\n",
    "\n",
    "print(\"\\nUploading to Azure Storage as blob:\\n\\t\" + local_file_name)\n",
    "\n",
    "# Upload the created file\n",
    "with open(upload_file_path, \"rb\") as data:\n",
    "    blob_client.upload_blob(data)"
   ]
  },
  {
   "cell_type": "code",
   "execution_count": null,
   "metadata": {},
   "outputs": [],
   "source": [
    "print(\"\\nListing blobs...\")\n",
    "\n",
    "# List the blobs in the container\n",
    "blob_list = container_client.list_blobs()\n",
    "for blob in blob_list:\n",
    "    print(\"\\t\" + blob.name)"
   ]
  },
  {
   "cell_type": "code",
   "execution_count": null,
   "metadata": {},
   "outputs": [],
   "source": [
    "# Download the blob to a local file\n",
    "# Add 'DOWNLOAD' before the .txt extension so you can see both files in the data directory\n",
    "download_file_path = os.path.join(local_path, str.replace(local_file_name ,'.txt', 'DOWNLOAD.txt'))\n",
    "print(\"\\nDownloading blob to \\n\\t\" + download_file_path)\n",
    "\n",
    "with open(download_file_path, \"wb\") as download_file:\n",
    "    download_file.write(blob_client.download_blob().readall())"
   ]
  },
  {
   "cell_type": "code",
   "execution_count": null,
   "metadata": {},
   "outputs": [],
   "source": []
  }
 ],
 "metadata": {
  "kernelspec": {
   "display_name": "Python 3",
   "language": "python",
   "name": "python3"
  },
  "language_info": {
   "codemirror_mode": {
    "name": "ipython",
    "version": 3
   },
   "file_extension": ".py",
   "mimetype": "text/x-python",
   "name": "python",
   "nbconvert_exporter": "python",
   "pygments_lexer": "ipython3",
   "version": "3.5.3"
  }
 },
 "nbformat": 4,
 "nbformat_minor": 4
}
